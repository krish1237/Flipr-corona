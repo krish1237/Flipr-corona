{
 "cells": [
  {
   "cell_type": "markdown",
   "metadata": {},
   "source": [
    "GETTING DATA"
   ]
  },
  {
   "cell_type": "code",
   "execution_count": 1,
   "metadata": {},
   "outputs": [],
   "source": [
    "import numpy as np"
   ]
  },
  {
   "cell_type": "code",
   "execution_count": 2,
   "metadata": {},
   "outputs": [
    {
     "name": "stdout",
     "output_type": "stream",
     "text": [
      "Shapes\n",
      "X_train: (10714, 21)\n",
      "Y_train: (10714,)\n",
      "X_test: (14498, 21)\n"
     ]
    }
   ],
   "source": [
    "data = np.load(\"./data.npz\")\n",
    "X_train = data[\"X_train\"]\n",
    "Y_train = data[\"Y_train\"]\n",
    "X_test = data[\"X_test\"]\n",
    "print(\"Shapes\")\n",
    "print(\"X_train:\",X_train.shape)\n",
    "print(\"Y_train:\",Y_train.shape)\n",
    "print(\"X_test:\",X_test.shape)"
   ]
  },
  {
   "cell_type": "markdown",
   "metadata": {},
   "source": [
    "COMPILING KERAS MODEL"
   ]
  },
  {
   "cell_type": "code",
   "execution_count": 3,
   "metadata": {},
   "outputs": [],
   "source": [
    "from tensorflow.keras.layers import Input, Dense\n",
    "from tensorflow.keras.models import Sequential"
   ]
  },
  {
   "cell_type": "code",
   "execution_count": 4,
   "metadata": {},
   "outputs": [],
   "source": [
    "model = Sequential()\n",
    "model.add(Dense(32, input_dim=21, kernel_initializer='glorot_uniform',\n",
    "                bias_initializer='zeros', activation=\"relu\"))\n",
    "model.add(Dense(64, kernel_initializer='glorot_uniform',\n",
    "                bias_initializer='zeros', activation=\"relu\"))\n",
    "model.add(Dense(32, kernel_initializer='glorot_uniform',\n",
    "                bias_initializer='zeros', activation=\"relu\"))\n",
    "model.add(Dense(1, kernel_initializer='glorot_uniform',\n",
    "                bias_initializer='zeros', activation=\"sigmoid\"))"
   ]
  },
  {
   "cell_type": "code",
   "execution_count": 5,
   "metadata": {},
   "outputs": [],
   "source": [
    "model.compile(loss=\"mean_squared_error\", optimizer=\"adam\")"
   ]
  },
  {
   "cell_type": "markdown",
   "metadata": {},
   "source": [
    "TRAINING MODEL"
   ]
  },
  {
   "cell_type": "code",
   "execution_count": 6,
   "metadata": {},
   "outputs": [
    {
     "data": {
      "text/plain": [
       "array([[0.4913501 ],\n",
       "       [0.5114788 ],\n",
       "       [0.73224   ],\n",
       "       ...,\n",
       "       [0.47708533],\n",
       "       [0.53803565],\n",
       "       [0.683424  ]])"
      ]
     },
     "execution_count": 6,
     "metadata": {},
     "output_type": "execute_result"
    }
   ],
   "source": [
    "labels = Y_train.reshape(-1,1)\n",
    "epochs = 10\n",
    "labels"
   ]
  },
  {
   "cell_type": "code",
   "execution_count": 7,
   "metadata": {},
   "outputs": [
    {
     "name": "stdout",
     "output_type": "stream",
     "text": [
      "Train on 9642 samples, validate on 1072 samples\n",
      "Epoch 1/10\n",
      "9642/9642 [==============================] - 1s 99us/sample - loss: 0.0085 - val_loss: 0.0107\n",
      "Epoch 2/10\n",
      "9642/9642 [==============================] - 1s 53us/sample - loss: 0.0080 - val_loss: 0.0094\n",
      "Epoch 3/10\n",
      "9642/9642 [==============================] - 1s 53us/sample - loss: 0.0079 - val_loss: 0.0094\n",
      "Epoch 4/10\n",
      "9642/9642 [==============================] - 1s 53us/sample - loss: 0.0078 - val_loss: 0.0095\n",
      "Epoch 5/10\n",
      "9642/9642 [==============================] - 1s 52us/sample - loss: 0.0077 - val_loss: 0.0093\n",
      "Epoch 6/10\n",
      "9642/9642 [==============================] - 1s 52us/sample - loss: 0.0076 - val_loss: 0.0093\n",
      "Epoch 7/10\n",
      "9642/9642 [==============================] - 1s 52us/sample - loss: 0.0075 - val_loss: 0.0093\n",
      "Epoch 8/10\n",
      "9642/9642 [==============================] - 1s 53us/sample - loss: 0.0075 - val_loss: 0.0101\n",
      "Epoch 9/10\n",
      "9642/9642 [==============================] - 1s 53us/sample - loss: 0.0075 - val_loss: 0.0096\n",
      "Epoch 10/10\n",
      "9642/9642 [==============================] - 1s 53us/sample - loss: 0.0074 - val_loss: 0.0097\n"
     ]
    },
    {
     "data": {
      "text/plain": [
       "<tensorflow.python.keras.callbacks.History at 0x7faafc1e7588>"
      ]
     },
     "execution_count": 7,
     "metadata": {},
     "output_type": "execute_result"
    }
   ],
   "source": [
    "model.fit(X_train,Y_train.reshape(-1,1), validation_split=0.1, epochs=epochs)"
   ]
  },
  {
   "cell_type": "code",
   "execution_count": 8,
   "metadata": {},
   "outputs": [],
   "source": [
    "y_pred = model.predict(X_train)"
   ]
  },
  {
   "cell_type": "code",
   "execution_count": 9,
   "metadata": {},
   "outputs": [
    {
     "data": {
      "text/plain": [
       "array([[0.4874287 ],\n",
       "       [0.5188278 ],\n",
       "       [0.5795431 ],\n",
       "       ...,\n",
       "       [0.48518467],\n",
       "       [0.5356131 ],\n",
       "       [0.6211264 ]], dtype=float32)"
      ]
     },
     "execution_count": 9,
     "metadata": {},
     "output_type": "execute_result"
    }
   ],
   "source": [
    "y_pred"
   ]
  },
  {
   "cell_type": "code",
   "execution_count": 10,
   "metadata": {},
   "outputs": [
    {
     "data": {
      "text/plain": [
       "array([[0.4913501 ],\n",
       "       [0.5114788 ],\n",
       "       [0.73224   ],\n",
       "       ...,\n",
       "       [0.47708533],\n",
       "       [0.53803565],\n",
       "       [0.683424  ]])"
      ]
     },
     "execution_count": 10,
     "metadata": {},
     "output_type": "execute_result"
    }
   ],
   "source": [
    "labels"
   ]
  },
  {
   "cell_type": "code",
   "execution_count": 11,
   "metadata": {},
   "outputs": [],
   "source": [
    "model.save(\"model.h5\")"
   ]
  },
  {
   "cell_type": "code",
   "execution_count": null,
   "metadata": {},
   "outputs": [],
   "source": []
  }
 ],
 "metadata": {
  "kernelspec": {
   "display_name": "Python 3.6.10 64-bit",
   "language": "python",
   "name": "python361064bitb6aefebf0b09458e823aa50434b95930"
  },
  "language_info": {
   "codemirror_mode": {
    "name": "ipython",
    "version": 3
   },
   "file_extension": ".py",
   "mimetype": "text/x-python",
   "name": "python",
   "nbconvert_exporter": "python",
   "pygments_lexer": "ipython3",
   "version": "3.6.10"
  }
 },
 "nbformat": 4,
 "nbformat_minor": 4
}
